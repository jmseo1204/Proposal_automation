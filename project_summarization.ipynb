{
 "cells": [
  {
   "cell_type": "code",
   "execution_count": null,
   "metadata": {},
   "outputs": [],
   "source": [
    "########## NOTICE ###########\n",
    "# 요약: 이 셀은 안돌려도 됩니다.\n",
    "# 프로젝트 백서를 간단하게 요약하는 셀 -> 이미 요약txt를 OUTPUT_summarized_project.txt에 뽑아놔서 돌릴 필요 없음\n",
    "# 이후 새로운 프로젝트 백서가 쌓이면 SOURCE_completed_project_contents.txt에 추가된 프로젝트의 주제와 진행프로세스만 따로 뽑아서 붙여넣어주면 됩니다.\n",
    "\n",
    "import os\n",
    "from chatgpt import run_chat_completion\n",
    "\n",
    "API_KEY = os.environ[\"OPENAI_API_KEY\"]\n",
    "\n",
    "reference = open(\"sources/SOURCE_completed_project_contents.txt\", 'r', encoding='UTF8').read()\n",
    "references = reference.split('[기업명]')[1:]\n",
    "prompt_sys = open(\"prompts/PROMPT_summarized_project.txt\", 'r', encoding='UTF8').read()\n",
    "prompt_usr = \"\"\"\n",
    "다음 내용을 바탕으로 기업 정보를 요약해줘.\n",
    "\n",
    "{reference}\n",
    "\n",
    "\"\"\"\n",
    "ret = []\n",
    "f= open(\"sources/SOURCE_summarized_project.txt\",\"w+\", encoding='UTF8')\n",
    "    \n",
    "for reference in references:\n",
    "    prompt = [{\"role\":\"system\", \"content\":prompt_sys},\n",
    "                {\"role\":\"user\", \"content\":prompt_usr.format(reference = reference)}\n",
    "            ]\n",
    "    answer = run_chat_completion(API_KEY, prompt)\n",
    "    ret.append(answer.choices[0].message.content)\n",
    "    print(ret[-1])\n",
    "    f.write(ret[-1])\n",
    "    print(\"\\n\\n\\n\")\n",
    "    f.write(\"\\n\\n\\n\")\n",
    "\n",
    "\n",
    "f.close()\n",
    "\n"
   ]
  }
 ],
 "metadata": {
  "language_info": {
   "name": "python"
  }
 },
 "nbformat": 4,
 "nbformat_minor": 2
}
