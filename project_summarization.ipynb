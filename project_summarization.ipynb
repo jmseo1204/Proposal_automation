{
 "cells": [
  {
   "cell_type": "code",
   "execution_count": null,
   "metadata": {},
   "outputs": [],
   "source": [
    "########## NOTICE ###########\n",
    "# 본 코드는 매번 안돌려도 됩니다.\n",
    "# 역할: 장문인 프로젝트 백서 텍스트를 주제 별로 간단하게 요약하기 \n",
    "# --> 이미 요약txt를 sources/SOURCE_summarized_project.txt에 뽑아놔서 새로운 프로젝트 백서가 추가되지 않으면 돌릴 필요 없음\n",
    "# 이후 새로운 프로젝트 백서가 쌓이면 SOURCE_completed_project_contents.txt에 추가된 프로젝트의 주제와 진행프로세스만 따로 뽑아서 붙여넣어주면 됩니다.\n",
    "# 현재는 각 기업의 투자규모, 도메인을 수기로 찾아서 기입해놨습니다. 이 두 가지는 외부정보라 노가다 뛴건데, 여기서 코드 돌려서 요약된기업정보.txt를 초기화시키면 두 가지 정보가 없어지겠죠?\n",
    "\n",
    "# 전하는 말) perplexity 등 검색엔진을 활용하는 llm api를 chatgpt api 앞단에 연결하여 기업 규모와 도메인을 자동으로 추가해주었으면 합니다. 지금도 구현이 가능은 한데 조금 귀찮아서.. 뒤를 부탁합니다.\n",
    "\n",
    "import os\n",
    "from chatgpt import run_chat_completion\n",
    "\n",
    "API_KEY = os.environ[\"OPENAI_API_KEY\"]\n",
    "\n",
    "reference = open(\"sources/SOURCE_completed_project_contents.txt\", 'r', encoding='UTF8').read()\n",
    "references = reference.split('[기업명]')[1:]\n",
    "prompt_sys = open(\"prompts/PROMPT_summarized_project.txt\", 'r', encoding='UTF8').read()\n",
    "prompt_usr = \"\"\"\n",
    "다음 내용을 바탕으로 기업 정보를 요약해줘.\n",
    "\n",
    "{reference}\n",
    "\n",
    "\"\"\"\n",
    "ret = []\n",
    "f= open(\"sources/SOURCE_summarized_project.txt\",\"w+\", encoding='UTF8')\n",
    "    \n",
    "for reference in references:\n",
    "    prompt = [{\"role\":\"system\", \"content\":prompt_sys},\n",
    "                {\"role\":\"user\", \"content\":prompt_usr.format(reference = reference)}\n",
    "            ]\n",
    "    answer = run_chat_completion(API_KEY, prompt)\n",
    "    ret.append(answer.choices[0].message.content)\n",
    "    print(ret[-1])\n",
    "    f.write(ret[-1])\n",
    "    print(\"\\n\\n\\n\")\n",
    "    f.write(\"\\n\\n\\n\")\n",
    "\n",
    "\n",
    "f.close()\n",
    "\n"
   ]
  }
 ],
 "metadata": {
  "language_info": {
   "name": "python"
  }
 },
 "nbformat": 4,
 "nbformat_minor": 2
}
